{
  "nbformat": 4,
  "nbformat_minor": 0,
  "metadata": {
    "colab": {
      "name": "Task.ipynb",
      "provenance": [],
      "collapsed_sections": []
    },
    "kernelspec": {
      "name": "python3",
      "display_name": "Python 3"
    },
    "language_info": {
      "name": "python"
    }
  },
  "cells": [
    {
      "cell_type": "code",
      "metadata": {
        "id": "wKsTLE-QUKqS"
      },
      "source": [
        "import pandas as pd\n",
        "import matplotlib.pyplot as plt\n",
        "import seaborn as sns\n",
        "import numpy as np"
      ],
      "execution_count": 183,
      "outputs": []
    },
    {
      "cell_type": "code",
      "metadata": {
        "colab": {
          "base_uri": "https://localhost:8080/",
          "height": 204
        },
        "id": "9UFG6tHkVNe8",
        "outputId": "6205868f-8ec1-4dc0-dca5-428047e51a57"
      },
      "source": [
        "df = pd.read_csv(\"pcb.csv\")\n",
        "df.head(5)"
      ],
      "execution_count": 184,
      "outputs": [
        {
          "output_type": "execute_result",
          "data": {
            "text/html": [
              "<div>\n",
              "<style scoped>\n",
              "    .dataframe tbody tr th:only-of-type {\n",
              "        vertical-align: middle;\n",
              "    }\n",
              "\n",
              "    .dataframe tbody tr th {\n",
              "        vertical-align: top;\n",
              "    }\n",
              "\n",
              "    .dataframe thead th {\n",
              "        text-align: right;\n",
              "    }\n",
              "</style>\n",
              "<table border=\"1\" class=\"dataframe\">\n",
              "  <thead>\n",
              "    <tr style=\"text-align: right;\">\n",
              "      <th></th>\n",
              "      <th>Activity, Exercise or Sport (1 hour)</th>\n",
              "      <th>130 lb</th>\n",
              "      <th>155 lb</th>\n",
              "      <th>180 lb</th>\n",
              "      <th>205 lb</th>\n",
              "      <th>Calories per kg</th>\n",
              "    </tr>\n",
              "  </thead>\n",
              "  <tbody>\n",
              "    <tr>\n",
              "      <th>0</th>\n",
              "      <td>Cycling, mountain bike, bmx</td>\n",
              "      <td>502</td>\n",
              "      <td>598</td>\n",
              "      <td>695</td>\n",
              "      <td>791</td>\n",
              "      <td>1.750730</td>\n",
              "    </tr>\n",
              "    <tr>\n",
              "      <th>1</th>\n",
              "      <td>Cycling, &lt;10 mph, leisure bicycling</td>\n",
              "      <td>236</td>\n",
              "      <td>281</td>\n",
              "      <td>327</td>\n",
              "      <td>372</td>\n",
              "      <td>0.823236</td>\n",
              "    </tr>\n",
              "    <tr>\n",
              "      <th>2</th>\n",
              "      <td>Cycling, &gt;20 mph, racing</td>\n",
              "      <td>944</td>\n",
              "      <td>1126</td>\n",
              "      <td>1308</td>\n",
              "      <td>1489</td>\n",
              "      <td>3.294974</td>\n",
              "    </tr>\n",
              "    <tr>\n",
              "      <th>3</th>\n",
              "      <td>Cycling, 10-11.9 mph, light</td>\n",
              "      <td>354</td>\n",
              "      <td>422</td>\n",
              "      <td>490</td>\n",
              "      <td>558</td>\n",
              "      <td>1.234853</td>\n",
              "    </tr>\n",
              "    <tr>\n",
              "      <th>4</th>\n",
              "      <td>Cycling, 12-13.9 mph, moderate</td>\n",
              "      <td>472</td>\n",
              "      <td>563</td>\n",
              "      <td>654</td>\n",
              "      <td>745</td>\n",
              "      <td>1.647825</td>\n",
              "    </tr>\n",
              "  </tbody>\n",
              "</table>\n",
              "</div>"
            ],
            "text/plain": [
              "  Activity, Exercise or Sport (1 hour)  130 lb  ...  205 lb  Calories per kg\n",
              "0          Cycling, mountain bike, bmx     502  ...     791         1.750730\n",
              "1  Cycling, <10 mph, leisure bicycling     236  ...     372         0.823236\n",
              "2             Cycling, >20 mph, racing     944  ...    1489         3.294974\n",
              "3          Cycling, 10-11.9 mph, light     354  ...     558         1.234853\n",
              "4       Cycling, 12-13.9 mph, moderate     472  ...     745         1.647825\n",
              "\n",
              "[5 rows x 6 columns]"
            ]
          },
          "metadata": {
            "tags": []
          },
          "execution_count": 184
        }
      ]
    },
    {
      "cell_type": "code",
      "metadata": {
        "colab": {
          "base_uri": "https://localhost:8080/"
        },
        "id": "s1k_aDWUVWiS",
        "outputId": "1477e834-3ad0-4360-911d-095c46c4a624"
      },
      "source": [
        "#different exercies/sports\n",
        "activities = df['Activity, Exercise or Sport (1 hour)'].value_counts()\n",
        "activities "
      ],
      "execution_count": 185,
      "outputs": [
        {
          "output_type": "execute_result",
          "data": {
            "text/plain": [
              "Walking downstairs                      1\n",
              "Walking, snow blower                    1\n",
              "Walking using crutches                  1\n",
              "Speed skating, ice, competitive         1\n",
              "Handball, team                          1\n",
              "                                       ..\n",
              "Running, 5 mph (12 minute mile)         1\n",
              "Running, stairs, up                     1\n",
              "Running, 7 mph (8.5 min mile)           1\n",
              "Rowing machine, moderate                1\n",
              "Climbing hills, carrying 21 to 42 lb    1\n",
              "Name: Activity, Exercise or Sport (1 hour), Length: 248, dtype: int64"
            ]
          },
          "metadata": {
            "tags": []
          },
          "execution_count": 185
        }
      ]
    },
    {
      "cell_type": "code",
      "metadata": {
        "colab": {
          "base_uri": "https://localhost:8080/",
          "height": 297
        },
        "id": "ujqVlnZ-o4gZ",
        "outputId": "b4824c19-068c-49ba-c9ed-9dfe8d8ec733"
      },
      "source": [
        "describe = df.describe()\n",
        "describe"
      ],
      "execution_count": 186,
      "outputs": [
        {
          "output_type": "execute_result",
          "data": {
            "text/html": [
              "<div>\n",
              "<style scoped>\n",
              "    .dataframe tbody tr th:only-of-type {\n",
              "        vertical-align: middle;\n",
              "    }\n",
              "\n",
              "    .dataframe tbody tr th {\n",
              "        vertical-align: top;\n",
              "    }\n",
              "\n",
              "    .dataframe thead th {\n",
              "        text-align: right;\n",
              "    }\n",
              "</style>\n",
              "<table border=\"1\" class=\"dataframe\">\n",
              "  <thead>\n",
              "    <tr style=\"text-align: right;\">\n",
              "      <th></th>\n",
              "      <th>130 lb</th>\n",
              "      <th>155 lb</th>\n",
              "      <th>180 lb</th>\n",
              "      <th>205 lb</th>\n",
              "      <th>Calories per kg</th>\n",
              "    </tr>\n",
              "  </thead>\n",
              "  <tbody>\n",
              "    <tr>\n",
              "      <th>count</th>\n",
              "      <td>248.000000</td>\n",
              "      <td>248.000000</td>\n",
              "      <td>248.000000</td>\n",
              "      <td>248.000000</td>\n",
              "      <td>248.000000</td>\n",
              "    </tr>\n",
              "    <tr>\n",
              "      <th>mean</th>\n",
              "      <td>389.754032</td>\n",
              "      <td>464.689516</td>\n",
              "      <td>539.685484</td>\n",
              "      <td>614.620968</td>\n",
              "      <td>1.359930</td>\n",
              "    </tr>\n",
              "    <tr>\n",
              "      <th>std</th>\n",
              "      <td>194.434028</td>\n",
              "      <td>232.019135</td>\n",
              "      <td>269.430029</td>\n",
              "      <td>306.847470</td>\n",
              "      <td>0.678851</td>\n",
              "    </tr>\n",
              "    <tr>\n",
              "      <th>min</th>\n",
              "      <td>89.000000</td>\n",
              "      <td>106.000000</td>\n",
              "      <td>123.000000</td>\n",
              "      <td>140.000000</td>\n",
              "      <td>0.310067</td>\n",
              "    </tr>\n",
              "    <tr>\n",
              "      <th>25%</th>\n",
              "      <td>236.000000</td>\n",
              "      <td>281.000000</td>\n",
              "      <td>327.000000</td>\n",
              "      <td>372.000000</td>\n",
              "      <td>0.823236</td>\n",
              "    </tr>\n",
              "    <tr>\n",
              "      <th>50%</th>\n",
              "      <td>354.000000</td>\n",
              "      <td>422.000000</td>\n",
              "      <td>490.000000</td>\n",
              "      <td>558.000000</td>\n",
              "      <td>1.234853</td>\n",
              "    </tr>\n",
              "    <tr>\n",
              "      <th>75%</th>\n",
              "      <td>472.000000</td>\n",
              "      <td>563.000000</td>\n",
              "      <td>654.000000</td>\n",
              "      <td>745.000000</td>\n",
              "      <td>1.647825</td>\n",
              "    </tr>\n",
              "    <tr>\n",
              "      <th>max</th>\n",
              "      <td>1062.000000</td>\n",
              "      <td>1267.000000</td>\n",
              "      <td>1471.000000</td>\n",
              "      <td>1675.000000</td>\n",
              "      <td>3.706591</td>\n",
              "    </tr>\n",
              "  </tbody>\n",
              "</table>\n",
              "</div>"
            ],
            "text/plain": [
              "            130 lb       155 lb       180 lb       205 lb  Calories per kg\n",
              "count   248.000000   248.000000   248.000000   248.000000       248.000000\n",
              "mean    389.754032   464.689516   539.685484   614.620968         1.359930\n",
              "std     194.434028   232.019135   269.430029   306.847470         0.678851\n",
              "min      89.000000   106.000000   123.000000   140.000000         0.310067\n",
              "25%     236.000000   281.000000   327.000000   372.000000         0.823236\n",
              "50%     354.000000   422.000000   490.000000   558.000000         1.234853\n",
              "75%     472.000000   563.000000   654.000000   745.000000         1.647825\n",
              "max    1062.000000  1267.000000  1471.000000  1675.000000         3.706591"
            ]
          },
          "metadata": {
            "tags": []
          },
          "execution_count": 186
        }
      ]
    },
    {
      "cell_type": "code",
      "metadata": {
        "colab": {
          "base_uri": "https://localhost:8080/"
        },
        "id": "OTdESH0h2eR0",
        "outputId": "7749bb12-5c72-481f-d21d-bab8299d7e94"
      },
      "source": [
        "dtypes = df.dtypes\n",
        "dtypes"
      ],
      "execution_count": 187,
      "outputs": [
        {
          "output_type": "execute_result",
          "data": {
            "text/plain": [
              "Activity, Exercise or Sport (1 hour)     object\n",
              "130 lb                                    int64\n",
              "155 lb                                    int64\n",
              "180 lb                                    int64\n",
              "205 lb                                    int64\n",
              "Calories per kg                         float64\n",
              "dtype: object"
            ]
          },
          "metadata": {
            "tags": []
          },
          "execution_count": 187
        }
      ]
    },
    {
      "cell_type": "code",
      "metadata": {
        "colab": {
          "base_uri": "https://localhost:8080/",
          "height": 80
        },
        "id": "oGbEKFOMWwoA",
        "outputId": "8f9d2ea2-bc1a-4780-caf3-50702285f157"
      },
      "source": [
        "#finding activity/sport in which most calories are burnt per kg\n",
        "max_calories = df.sort_values(['Calories per kg'], ascending=False)\n",
        "max_calories.head(1)"
      ],
      "execution_count": 188,
      "outputs": [
        {
          "output_type": "execute_result",
          "data": {
            "text/html": [
              "<div>\n",
              "<style scoped>\n",
              "    .dataframe tbody tr th:only-of-type {\n",
              "        vertical-align: middle;\n",
              "    }\n",
              "\n",
              "    .dataframe tbody tr th {\n",
              "        vertical-align: top;\n",
              "    }\n",
              "\n",
              "    .dataframe thead th {\n",
              "        text-align: right;\n",
              "    }\n",
              "</style>\n",
              "<table border=\"1\" class=\"dataframe\">\n",
              "  <thead>\n",
              "    <tr style=\"text-align: right;\">\n",
              "      <th></th>\n",
              "      <th>Activity, Exercise or Sport (1 hour)</th>\n",
              "      <th>130 lb</th>\n",
              "      <th>155 lb</th>\n",
              "      <th>180 lb</th>\n",
              "      <th>205 lb</th>\n",
              "      <th>Calories per kg</th>\n",
              "    </tr>\n",
              "  </thead>\n",
              "  <tbody>\n",
              "    <tr>\n",
              "      <th>47</th>\n",
              "      <td>Running, 10.9 mph (5.5 min mile)</td>\n",
              "      <td>1062</td>\n",
              "      <td>1267</td>\n",
              "      <td>1471</td>\n",
              "      <td>1675</td>\n",
              "      <td>3.706591</td>\n",
              "    </tr>\n",
              "  </tbody>\n",
              "</table>\n",
              "</div>"
            ],
            "text/plain": [
              "   Activity, Exercise or Sport (1 hour)  130 lb  ...  205 lb  Calories per kg\n",
              "47     Running, 10.9 mph (5.5 min mile)    1062  ...    1675         3.706591\n",
              "\n",
              "[1 rows x 6 columns]"
            ]
          },
          "metadata": {
            "tags": []
          },
          "execution_count": 188
        }
      ]
    },
    {
      "cell_type": "code",
      "metadata": {
        "id": "P2MmQvDwaZn2",
        "colab": {
          "base_uri": "https://localhost:8080/",
          "height": 80
        },
        "outputId": "7e8fa081-7146-4e08-beae-73c415377424"
      },
      "source": [
        "#finding activity/sport in which least calories are burnt per kg\n",
        "least_calories = max_calories.tail(1)\n",
        "least_calories"
      ],
      "execution_count": 189,
      "outputs": [
        {
          "output_type": "execute_result",
          "data": {
            "text/html": [
              "<div>\n",
              "<style scoped>\n",
              "    .dataframe tbody tr th:only-of-type {\n",
              "        vertical-align: middle;\n",
              "    }\n",
              "\n",
              "    .dataframe tbody tr th {\n",
              "        vertical-align: top;\n",
              "    }\n",
              "\n",
              "    .dataframe thead th {\n",
              "        text-align: right;\n",
              "    }\n",
              "</style>\n",
              "<table border=\"1\" class=\"dataframe\">\n",
              "  <thead>\n",
              "    <tr style=\"text-align: right;\">\n",
              "      <th></th>\n",
              "      <th>Activity, Exercise or Sport (1 hour)</th>\n",
              "      <th>130 lb</th>\n",
              "      <th>155 lb</th>\n",
              "      <th>180 lb</th>\n",
              "      <th>205 lb</th>\n",
              "      <th>Calories per kg</th>\n",
              "    </tr>\n",
              "  </thead>\n",
              "  <tbody>\n",
              "    <tr>\n",
              "      <th>238</th>\n",
              "      <td>Watering lawn or garden</td>\n",
              "      <td>89</td>\n",
              "      <td>106</td>\n",
              "      <td>123</td>\n",
              "      <td>140</td>\n",
              "      <td>0.310067</td>\n",
              "    </tr>\n",
              "  </tbody>\n",
              "</table>\n",
              "</div>"
            ],
            "text/plain": [
              "    Activity, Exercise or Sport (1 hour)  130 lb  ...  205 lb  Calories per kg\n",
              "238              Watering lawn or garden      89  ...     140         0.310067\n",
              "\n",
              "[1 rows x 6 columns]"
            ]
          },
          "metadata": {
            "tags": []
          },
          "execution_count": 189
        }
      ]
    },
    {
      "cell_type": "code",
      "metadata": {
        "colab": {
          "base_uri": "https://localhost:8080/",
          "height": 279
        },
        "id": "cE1FAXRYrnxj",
        "outputId": "98277c41-6423-42a5-a27d-bf79c1bc6a59"
      },
      "source": [
        "#from the below plot we can assume, the calories burnt increase on increase of weight \n",
        "plt.scatter(df.index, df[\"130 lb\"], color = 'blue') \n",
        "plt.xlabel(\"Exercises\")\n",
        "plt.ylabel(\"Calories burned\")\n",
        "plt.scatter(df.index, df[\"155 lb\"], color = 'green')\n",
        "plt.xlabel(\"Exercises\")\n",
        "plt.ylabel(\"Calories burned\")\n",
        "plt.scatter(df.index, df[\"180 lb\"], color = 'red')\n",
        "plt.xlabel(\"Exercises\")\n",
        "plt.ylabel(\"Calories burned\")\n",
        "plt.scatter(df.index, df[\"205 lb\"], color = 'orange')\n",
        "plt.xlabel(\"Exercises\")\n",
        "plt.ylabel(\"Calories burned\")\n",
        "plt.legend([\"130 lb\", \"155 lb\", \"180 lb\", \"205 lb\"])\n",
        "plt.show()"
      ],
      "execution_count": 190,
      "outputs": [
        {
          "output_type": "display_data",
          "data": {
            "image/png": "[encoded data removed]",
            "text/plain": [
              "<Figure size 432x288 with 1 Axes>"
            ]
          },
          "metadata": {
            "tags": [],
            "needs_background": "light"
          }
        }
      ]
    },
    {
      "cell_type": "code",
      "metadata": {
        "id": "zmbRWSdwh8jD"
      },
      "source": [
        "#As DataSet above had no proper feature variables to predict on I tried another dataset which was specifed in the examples of the DataSet"
      ],
      "execution_count": 193,
      "outputs": []
    },
    {
      "cell_type": "code",
      "metadata": {
        "colab": {
          "base_uri": "https://localhost:8080/",
          "height": 204
        },
        "id": "7BdtEGIHyC84",
        "outputId": "208322d4-8014-46d2-88fa-fe7908faf5e6"
      },
      "source": [
        "exercise = pd.read_csv('exercise.csv')\n",
        "calories = pd.read_csv('calories.csv')\n",
        "df2 = pd.merge(exercise, calories, on = 'User_ID')\n",
        "df2.head(5)"
      ],
      "execution_count": 237,
      "outputs": [
        {
          "output_type": "execute_result",
          "data": {
            "text/html": [
              "<div>\n",
              "<style scoped>\n",
              "    .dataframe tbody tr th:only-of-type {\n",
              "        vertical-align: middle;\n",
              "    }\n",
              "\n",
              "    .dataframe tbody tr th {\n",
              "        vertical-align: top;\n",
              "    }\n",
              "\n",
              "    .dataframe thead th {\n",
              "        text-align: right;\n",
              "    }\n",
              "</style>\n",
              "<table border=\"1\" class=\"dataframe\">\n",
              "  <thead>\n",
              "    <tr style=\"text-align: right;\">\n",
              "      <th></th>\n",
              "      <th>User_ID</th>\n",
              "      <th>Gender</th>\n",
              "      <th>Age</th>\n",
              "      <th>Height</th>\n",
              "      <th>Weight</th>\n",
              "      <th>Duration</th>\n",
              "      <th>Heart_Rate</th>\n",
              "      <th>Body_Temp</th>\n",
              "      <th>Calories</th>\n",
              "    </tr>\n",
              "  </thead>\n",
              "  <tbody>\n",
              "    <tr>\n",
              "      <th>0</th>\n",
              "      <td>14733363</td>\n",
              "      <td>male</td>\n",
              "      <td>68</td>\n",
              "      <td>190.0</td>\n",
              "      <td>94.0</td>\n",
              "      <td>29.0</td>\n",
              "      <td>105.0</td>\n",
              "      <td>40.8</td>\n",
              "      <td>231.0</td>\n",
              "    </tr>\n",
              "    <tr>\n",
              "      <th>1</th>\n",
              "      <td>14861698</td>\n",
              "      <td>female</td>\n",
              "      <td>20</td>\n",
              "      <td>166.0</td>\n",
              "      <td>60.0</td>\n",
              "      <td>14.0</td>\n",
              "      <td>94.0</td>\n",
              "      <td>40.3</td>\n",
              "      <td>66.0</td>\n",
              "    </tr>\n",
              "    <tr>\n",
              "      <th>2</th>\n",
              "      <td>11179863</td>\n",
              "      <td>male</td>\n",
              "      <td>69</td>\n",
              "      <td>179.0</td>\n",
              "      <td>79.0</td>\n",
              "      <td>5.0</td>\n",
              "      <td>88.0</td>\n",
              "      <td>38.7</td>\n",
              "      <td>26.0</td>\n",
              "    </tr>\n",
              "    <tr>\n",
              "      <th>3</th>\n",
              "      <td>16180408</td>\n",
              "      <td>female</td>\n",
              "      <td>34</td>\n",
              "      <td>179.0</td>\n",
              "      <td>71.0</td>\n",
              "      <td>13.0</td>\n",
              "      <td>100.0</td>\n",
              "      <td>40.5</td>\n",
              "      <td>71.0</td>\n",
              "    </tr>\n",
              "    <tr>\n",
              "      <th>4</th>\n",
              "      <td>17771927</td>\n",
              "      <td>female</td>\n",
              "      <td>27</td>\n",
              "      <td>154.0</td>\n",
              "      <td>58.0</td>\n",
              "      <td>10.0</td>\n",
              "      <td>81.0</td>\n",
              "      <td>39.8</td>\n",
              "      <td>35.0</td>\n",
              "    </tr>\n",
              "  </tbody>\n",
              "</table>\n",
              "</div>"
            ],
            "text/plain": [
              "    User_ID  Gender  Age  Height  ...  Duration  Heart_Rate  Body_Temp  Calories\n",
              "0  14733363    male   68   190.0  ...      29.0       105.0       40.8     231.0\n",
              "1  14861698  female   20   166.0  ...      14.0        94.0       40.3      66.0\n",
              "2  11179863    male   69   179.0  ...       5.0        88.0       38.7      26.0\n",
              "3  16180408  female   34   179.0  ...      13.0       100.0       40.5      71.0\n",
              "4  17771927  female   27   154.0  ...      10.0        81.0       39.8      35.0\n",
              "\n",
              "[5 rows x 9 columns]"
            ]
          },
          "metadata": {
            "tags": []
          },
          "execution_count": 237
        }
      ]
    },
    {
      "cell_type": "code",
      "metadata": {
        "colab": {
          "base_uri": "https://localhost:8080/",
          "height": 404
        },
        "id": "6u0avpXcySIY",
        "outputId": "c0cd9967-ac52-4829-c217-441ff878fa19"
      },
      "source": [
        "# Visualizing the effect of exercise minutes on calories burned\n",
        "plt.figure(figsize=(6, 6))\n",
        "plt.scatter(df2['Duration'], df2['Calories']);\n",
        "plt.xlabel('Duration in mins'); plt.ylabel('Calories'); \n",
        "plt.title('Calories burned vs Duration of Exercise');"
      ],
      "execution_count": 238,
      "outputs": [
        {
          "output_type": "display_data",
          "data": {
            "image/png": "[encoded data removed]",
            "text/plain": [
              "<Figure size 432x432 with 1 Axes>"
            ]
          },
          "metadata": {
            "tags": [],
            "needs_background": "light"
          }
        }
      ]
    },
    {
      "cell_type": "code",
      "metadata": {
        "id": "RAYEAj0Ky4xe"
      },
      "source": [
        "#Taking our Feature Variables X and Y\n",
        "X = df2.Duration\n",
        "y = df2.Calories"
      ],
      "execution_count": 239,
      "outputs": []
    },
    {
      "cell_type": "code",
      "metadata": {
        "id": "WzIrDNS5INE7"
      },
      "source": [
        "class SimpleLinearRegression:\n",
        "\n",
        "    def __init__(self):\n",
        "        self.b0 = None\n",
        "        self.b1 = None\n",
        "    \n",
        "    def fit(self, X, y): #Calculating the slope and Intercept\n",
        "        numerator = np.sum((X - np.mean(X)) * (y - np.mean(y)))\n",
        "        denominator = np.sum((X - np.mean(X)) ** 2)\n",
        "        self.b1 = numerator / denominator\n",
        "        self.b0 = np.mean(y) - self.b1 * np.mean(X)\n",
        "        \n",
        "    def predict(self, X): #Prediction \n",
        "      \n",
        "       \n",
        "        return self.b0 + self.b1 * X #Returns Linear Regression Formula"
      ],
      "execution_count": 240,
      "outputs": []
    },
    {
      "cell_type": "code",
      "metadata": {
        "id": "NVCMq7WMJ1N4"
      },
      "source": [
        "#Trainnig the DataSet\n",
        "from sklearn.model_selection import train_test_split\n",
        "X_train, X_test, y_train, y_test = train_test_split(X, y, test_size=0.2, random_state=0)"
      ],
      "execution_count": 241,
      "outputs": []
    },
    {
      "cell_type": "code",
      "metadata": {
        "colab": {
          "base_uri": "https://localhost:8080/"
        },
        "id": "7cpAZtWMJ_5b",
        "outputId": "2193b92c-701c-4c8b-f1d7-7843dc790438"
      },
      "source": [
        "model = SimpleLinearRegression()\n",
        "model.fit(X_train, y_train)\n",
        "preds = model.predict(X_test)\n",
        "\n",
        "model.b0, model.b1"
      ],
      "execution_count": 242,
      "outputs": [
        {
          "output_type": "execute_result",
          "data": {
            "text/plain": [
              "(-21.915029308648542, 7.178872631910296)"
            ]
          },
          "metadata": {
            "tags": []
          },
          "execution_count": 242
        }
      ]
    },
    {
      "cell_type": "code",
      "metadata": {
        "id": "rZjanfsDNLSe"
      },
      "source": [
        "regr = SimpleLinearRegression()\n",
        "regr.fit(X,y)"
      ],
      "execution_count": 243,
      "outputs": []
    },
    {
      "cell_type": "code",
      "metadata": {
        "colab": {
          "base_uri": "https://localhost:8080/"
        },
        "id": "8-W0i-DzOBOv",
        "outputId": "7f9801a7-da39-4cff-b30c-fee924431031"
      },
      "source": [
        "pred = regr.predict(60)\n",
        "print(\"Total Calories Burnt in 1 hr of Exercise is :\", pred)"
      ],
      "execution_count": 244,
      "outputs": [
        {
          "output_type": "stream",
          "text": [
            "Total Calories Burnt in 1 hr of Exercise is : 408.51337387477554\n"
          ],
          "name": "stdout"
        }
      ]
    },
    {
      "cell_type": "code",
      "metadata": {
        "id": "Ev37xvMQOV13"
      },
      "source": [
        ""
      ],
      "execution_count": null,
      "outputs": []
    }
  ]
}